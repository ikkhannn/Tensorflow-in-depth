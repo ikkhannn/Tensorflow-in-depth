{
  "nbformat": 4,
  "nbformat_minor": 0,
  "metadata": {
    "colab": {
      "name": "course 3 lesson 3.ipynb",
      "provenance": [],
      "collapsed_sections": []
    },
    "kernelspec": {
      "name": "python3",
      "display_name": "Python 3"
    }
  },
  "cells": [
    {
      "cell_type": "code",
      "metadata": {
        "id": "W1kQWeYMXLyV",
        "colab_type": "code",
        "colab": {
          "base_uri": "https://localhost:8080/",
          "height": 345
        },
        "outputId": "9f91597d-afae-406e-d64c-68bfef540e00"
      },
      "source": [
        "!wget --no-check-certificate \\\n",
        "https://storage.googleapis.com/laurencemoroney-blog.appspot.com/sarcasm.json \\\n",
        "  -O /tmp/sarcasm.json\n",
        "import json\n",
        "with open('/tmp/sarcasm.json','r') as f:\n",
        "  datastore=json.load(f)\n",
        "  \n",
        "sentences=[]\n",
        "urls=[]\n",
        "labels=[]\n",
        "\n",
        "for item in datastore:\n",
        "  sentences.append(item['headline'])\n",
        "  labels.append(item['is_sarcastic'])\n",
        "  urls.append(item['article_link'])\n",
        "  \n",
        "  \n",
        "from tensorflow.keras.preprocessing.text import Tokenizer\n",
        "from tensorflow.keras.preprocessing.sequence import pad_sequences\n",
        "\n",
        "tokenizer=Tokenizer(oov_token='<OOV>')\n",
        "tokenizer.fit_on_texts(sentences)\n",
        "\n",
        "word_index=tokenizer.word_index\n",
        "print(len(word_index))\n",
        "\n",
        "sequences=tokenizer.texts_to_sequences(sentences)\n",
        "padded=pad_sequences(sequences,padding='post')\n",
        "\n",
        "print(sentences[2])\n",
        "print(padded[2])\n",
        "print(padded.shape)\n"
      ],
      "execution_count": 9,
      "outputs": [
        {
          "output_type": "stream",
          "text": [
            "--2019-10-18 15:12:51--  https://storage.googleapis.com/laurencemoroney-blog.appspot.com/sarcasm.json\n",
            "Resolving storage.googleapis.com (storage.googleapis.com)... 108.177.111.128, 2607:f8b0:4001:c0b::80\n",
            "Connecting to storage.googleapis.com (storage.googleapis.com)|108.177.111.128|:443... connected.\n",
            "HTTP request sent, awaiting response... 200 OK\n",
            "Length: 5643545 (5.4M) [application/json]\n",
            "Saving to: ‘/tmp/sarcasm.json’\n",
            "\n",
            "\r/tmp/sarcasm.json     0%[                    ]       0  --.-KB/s               \r/tmp/sarcasm.json   100%[===================>]   5.38M  --.-KB/s    in 0.04s   \n",
            "\n",
            "2019-10-18 15:12:52 (123 MB/s) - ‘/tmp/sarcasm.json’ saved [5643545/5643545]\n",
            "\n",
            "29657\n",
            "mom starting to fear son's web series closest thing she will have to grandchild\n",
            "[  145   838     2   907  1749  2093   582  4719   221   143    39    46\n",
            "     2 10736     0     0     0     0     0     0     0     0     0     0\n",
            "     0     0     0     0     0     0     0     0     0     0     0     0\n",
            "     0     0     0     0]\n",
            "(26709, 40)\n"
          ],
          "name": "stdout"
        }
      ]
    },
    {
      "cell_type": "code",
      "metadata": {
        "id": "I4wqkUoGbZvM",
        "colab_type": "code",
        "colab": {}
      },
      "source": [
        ""
      ],
      "execution_count": 0,
      "outputs": []
    }
  ]
}