{
  "nbformat": 4,
  "nbformat_minor": 0,
  "metadata": {
    "colab": {
      "name": "Exercise 3 - Question.ipynb",
      "version": "0.3.2",
      "provenance": [],
      "collapsed_sections": []
    },
    "kernelspec": {
      "name": "python3",
      "display_name": "Python 3"
    },
    "accelerator": "GPU"
  },
  "cells": [
    {
      "cell_type": "markdown",
      "metadata": {
        "id": "iQjHqsmTAVLU",
        "colab_type": "text"
      },
      "source": [
        "## Exercise 3\n",
        "In the videos you looked at how you would improve Fashion MNIST using Convolutions. For your exercise see if you can improve MNIST to 99.8% accuracy or more using only a single convolutional layer and a single MaxPooling 2D. You should stop training once the accuracy goes above this amount. It should happen in less than 20 epochs, so it's ok to hard code the number of epochs for training, but your training must end once it hits the above metric. If it doesn't, then you'll need to redesign your layers.\n",
        "\n",
        "I've started the code for you -- you need to finish it!\n",
        "\n",
        "When 99.8% accuracy has been hit, you should print out the string \"Reached 99.8% accuracy so cancelling training!\"\n"
      ]
    },
    {
      "cell_type": "code",
      "metadata": {
        "id": "sfQRyaJWAIdg",
        "colab_type": "code",
        "colab": {
          "base_uri": "https://localhost:8080/",
          "height": 399
        },
        "outputId": "14c0e1e6-16d8-4588-b137-0ee502ea9ae4"
      },
      "source": [
        "import tensorflow as tf\n",
        "\n",
        "# YOUR CODE STARTS HERE\n",
        "\n",
        "class myCallback(tf.keras.callbacks.Callback):\n",
        "  def on_epoch_end(self, epoch, logs={}):\n",
        "    if(logs.get('acc')>0.998):\n",
        "      print(\"\\nReached 99.8% accuracy so cancelling training!\")\n",
        "      self.model.stop_training = True\n",
        "\n",
        "# YOUR CODE ENDS HERE\n",
        "\n",
        "mnist = tf.keras.datasets.mnist\n",
        "(training_images, training_labels), (test_images, test_labels) = mnist.load_data()\n",
        "\n",
        "# YOUR CODE STARTS HERE\n",
        "callbacks = myCallback()\n",
        "training_images=training_images.reshape(60000,28,28,1)\n",
        "training_images=training_images/255.0\n",
        "test_images = test_images.reshape(10000, 28, 28, 1)\n",
        "test_images=test_images/255.0\n",
        "\n",
        "# YOUR CODE ENDS HERE\n",
        "\n",
        "\n",
        "model = tf.keras.models.Sequential([\n",
        "    tf.keras.layers.Conv2D(64,(3,3),activation='relu',input_shape=(28,28,1)),\n",
        "    tf.keras.layers.MaxPooling2D(2,2),\n",
        "    tf.keras.layers.Flatten(),\n",
        "    tf.keras.layers.Dense(128,activation='relu'),\n",
        "    tf.keras.layers.Dense(10,activation='softmax')\n",
        "    \n",
        "    \n",
        "    # YOUR CODE ENDS HERE\n",
        "])\n",
        "\n",
        "# YOUR CODE STARTS HERE\n",
        "\n",
        "model.compile(optimizer='adam',loss='sparse_categorical_crossentropy',metrics=['accuracy'])\n",
        "model.fit(training_images,training_labels,epochs=20,callbacks=[callbacks])\n",
        "\n",
        "\n",
        "# YOUR CODE ENDS HERE\n",
        "\n"
      ],
      "execution_count": 4,
      "outputs": [
        {
          "output_type": "stream",
          "text": [
            "Epoch 1/20\n",
            "60000/60000 [==============================] - 6s 98us/sample - loss: 0.1357 - acc: 0.9588\n",
            "Epoch 2/20\n",
            "60000/60000 [==============================] - 5s 89us/sample - loss: 0.0463 - acc: 0.9861\n",
            "Epoch 3/20\n",
            "60000/60000 [==============================] - 5s 88us/sample - loss: 0.0278 - acc: 0.9912\n",
            "Epoch 4/20\n",
            "60000/60000 [==============================] - 5s 88us/sample - loss: 0.0179 - acc: 0.9942\n",
            "Epoch 5/20\n",
            "60000/60000 [==============================] - 5s 89us/sample - loss: 0.0114 - acc: 0.9966\n",
            "Epoch 6/20\n",
            "60000/60000 [==============================] - 5s 89us/sample - loss: 0.0084 - acc: 0.9971\n",
            "Epoch 7/20\n",
            "60000/60000 [==============================] - 5s 88us/sample - loss: 0.0065 - acc: 0.9977\n",
            "Epoch 8/20\n",
            "60000/60000 [==============================] - 5s 89us/sample - loss: 0.0067 - acc: 0.9973\n",
            "Epoch 9/20\n",
            "59456/60000 [============================>.] - ETA: 0s - loss: 0.0052 - acc: 0.9983\n",
            "Reached 99.8% accuracy so cancelling training!\n",
            "60000/60000 [==============================] - 5s 88us/sample - loss: 0.0052 - acc: 0.9983\n"
          ],
          "name": "stdout"
        },
        {
          "output_type": "execute_result",
          "data": {
            "text/plain": [
              "<tensorflow.python.keras.callbacks.History at 0x7fc6508f2a90>"
            ]
          },
          "metadata": {
            "tags": []
          },
          "execution_count": 4
        }
      ]
    },
    {
      "cell_type": "code",
      "metadata": {
        "id": "jvm29wAPdE56",
        "colab_type": "code",
        "colab": {}
      },
      "source": [
        ""
      ],
      "execution_count": 0,
      "outputs": []
    }
  ]
}